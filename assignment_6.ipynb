{
  "nbformat": 4,
  "nbformat_minor": 0,
  "metadata": {
    "colab": {
      "provenance": [],
      "authorship_tag": "ABX9TyPiN739HpaDo7UKB/I7Reca",
      "include_colab_link": true
    },
    "kernelspec": {
      "name": "python3",
      "display_name": "Python 3"
    },
    "language_info": {
      "name": "python"
    }
  },
  "cells": [
    {
      "cell_type": "markdown",
      "metadata": {
        "id": "view-in-github",
        "colab_type": "text"
      },
      "source": [
        "<a href=\"https://colab.research.google.com/github/sitarasheikh/assignment_6/blob/main/assignment_6.ipynb\" target=\"_parent\"><img src=\"https://colab.research.google.com/assets/colab-badge.svg\" alt=\"Open In Colab\"/></a>"
      ]
    },
    {
      "cell_type": "code",
      "execution_count": null,
      "metadata": {
        "id": "FCLFrNqjIlqI"
      },
      "outputs": [],
      "source": []
    },
    {
      "cell_type": "markdown",
      "source": [
        "1. Using self"
      ],
      "metadata": {
        "id": "84uMAWM3JUHy"
      }
    },
    {
      "cell_type": "code",
      "source": [
        "class Student:\n",
        "    def __init__(self, name, marks):\n",
        "        self.name = name\n",
        "        self.marks = marks\n",
        "\n",
        "    def display(self):\n",
        "        print(f\"Name: {self.name}\")\n",
        "        print(f\"Marks: {self.marks}\")\n",
        "\n",
        "# Example\n",
        "student1 = Student(\"Ali\", 85)\n",
        "student1.display()\n"
      ],
      "metadata": {
        "colab": {
          "base_uri": "https://localhost:8080/"
        },
        "id": "9LBKBB3nJbKG",
        "outputId": "7fd92557-7f4d-4d27-96ce-d6914454587a"
      },
      "execution_count": 1,
      "outputs": [
        {
          "output_type": "stream",
          "name": "stdout",
          "text": [
            "Name: Ali\n",
            "Marks: 85\n"
          ]
        }
      ]
    },
    {
      "cell_type": "markdown",
      "source": [
        "2. Using cls"
      ],
      "metadata": {
        "id": "WaFu7yY0Jl8N"
      }
    },
    {
      "cell_type": "code",
      "source": [
        "class Counter:\n",
        "    count = 0\n",
        "\n",
        "    def __init__(self):\n",
        "        Counter.count += 1\n",
        "\n",
        "    @classmethod\n",
        "    def display_count(cls):\n",
        "        print(f\"Total objects created: {cls.count}\")\n",
        "\n",
        "# Example usage\n",
        "c1 = Counter()\n",
        "c2 = Counter()\n",
        "c3 = Counter()\n",
        "Counter.display_count()\n"
      ],
      "metadata": {
        "colab": {
          "base_uri": "https://localhost:8080/"
        },
        "id": "u7sF6NhhJqVM",
        "outputId": "e672ef43-0cd6-4ee4-bd21-637db80a81a6"
      },
      "execution_count": 2,
      "outputs": [
        {
          "output_type": "stream",
          "name": "stdout",
          "text": [
            "Total objects created: 3\n"
          ]
        }
      ]
    },
    {
      "cell_type": "markdown",
      "source": [
        "3. Public Variables and Methods"
      ],
      "metadata": {
        "id": "XJxnLj_LJ-IC"
      }
    },
    {
      "cell_type": "code",
      "source": [
        "class Car:\n",
        "    def __init__(self, brand):\n",
        "        self.brand = brand\n",
        "\n",
        "    def start(self):\n",
        "        print(f\"{self.brand} car is starting...\")\n",
        "\n",
        "# Example usage\n",
        "my_car = Car(\"Toyota\")\n",
        "print(my_car.brand)\n",
        "my_car.start()\n"
      ],
      "metadata": {
        "colab": {
          "base_uri": "https://localhost:8080/"
        },
        "id": "dk9_vGBAJ_W0",
        "outputId": "9f156af4-2360-4955-ac62-a1e57f0052db"
      },
      "execution_count": 21,
      "outputs": [
        {
          "output_type": "stream",
          "name": "stdout",
          "text": [
            "Toyota\n",
            "Toyota car is starting...\n"
          ]
        }
      ]
    },
    {
      "cell_type": "markdown",
      "source": [
        "\n",
        "4. Class Variables and Class Methods\n"
      ],
      "metadata": {
        "id": "eeQG1ek3L7TE"
      }
    },
    {
      "cell_type": "code",
      "source": [
        "class Bank:\n",
        "    bank_name = \"ABC Bank\"\n",
        "\n",
        "    def __init__(self, account_holder):\n",
        "        self.account_holder = account_holder\n",
        "\n",
        "    @classmethod\n",
        "    def change_bank_name(cls, name):\n",
        "        cls.bank_name = name\n",
        "\n",
        "    def show_details(self):\n",
        "        print(f\"Account Holder: {self.account_holder}\")\n",
        "        print(f\"Bank Name: {Bank.bank_name}\")\n",
        "\n",
        "# Example usage\n",
        "acc1 = Bank(\"Ali\")\n",
        "acc2 = Bank(\"Sara\")\n",
        "\n",
        "acc1.show_details()\n",
        "acc2.show_details()\n",
        "\n",
        "Bank.change_bank_name(\"XYZ Bank\")\n",
        "\n",
        "acc1.show_details()\n",
        "acc2.show_details()\n"
      ],
      "metadata": {
        "colab": {
          "base_uri": "https://localhost:8080/"
        },
        "id": "aQjsQFQbMBM4",
        "outputId": "f46b9c22-9d98-41a5-9172-0ac46cbcaee6"
      },
      "execution_count": 19,
      "outputs": [
        {
          "output_type": "stream",
          "name": "stdout",
          "text": [
            "Account Holder: Ali\n",
            "Bank Name: ABC Bank\n",
            "Account Holder: Sara\n",
            "Bank Name: ABC Bank\n",
            "Account Holder: Ali\n",
            "Bank Name: XYZ Bank\n",
            "Account Holder: Sara\n",
            "Bank Name: XYZ Bank\n"
          ]
        }
      ]
    },
    {
      "cell_type": "markdown",
      "source": [
        "5. Static Variables and Static Methods"
      ],
      "metadata": {
        "id": "WQBTmUf1MR2e"
      }
    },
    {
      "cell_type": "code",
      "source": [
        "class MathUtils:\n",
        "    @staticmethod\n",
        "    def add(a, b):\n",
        "        return a + b\n",
        "\n",
        "# Example usage\n",
        "result = MathUtils.add(5, 7)\n",
        "print(\"Sum:\", result)\n"
      ],
      "metadata": {
        "colab": {
          "base_uri": "https://localhost:8080/"
        },
        "id": "VqjS8Au8MTTp",
        "outputId": "4d572b48-f306-4878-cdc0-f2620486843c"
      },
      "execution_count": 20,
      "outputs": [
        {
          "output_type": "stream",
          "name": "stdout",
          "text": [
            "Sum: 12\n"
          ]
        }
      ]
    },
    {
      "cell_type": "markdown",
      "source": [
        "6. Constructors and Destructors"
      ],
      "metadata": {
        "id": "26i_UdDhMlUx"
      }
    },
    {
      "cell_type": "code",
      "source": [
        "class Logger:\n",
        "    def __init__(self):\n",
        "        print(\"Logger initialized.\")\n",
        "\n",
        "    def __del__(self):\n",
        "        print(\"Logger destroyed.\")\n",
        "\n",
        "# Example usage\n",
        "log = Logger()\n",
        "del log\n"
      ],
      "metadata": {
        "colab": {
          "base_uri": "https://localhost:8080/"
        },
        "id": "EQ_qHKKGMrx9",
        "outputId": "a27c9b36-999c-4cb5-ec3d-9aafa77e42c4"
      },
      "execution_count": 18,
      "outputs": [
        {
          "output_type": "stream",
          "name": "stdout",
          "text": [
            "Logger initialized.\n",
            "Logger destroyed.\n"
          ]
        }
      ]
    },
    {
      "cell_type": "markdown",
      "source": [
        "7. Access Modifiers: Public, Private, and Protected"
      ],
      "metadata": {
        "id": "R5eVXy_3M2cd"
      }
    },
    {
      "cell_type": "code",
      "source": [
        "class Employee:\n",
        "    def __init__(self, name, salary, ssn):\n",
        "        self.name = name            # public\n",
        "        self._salary = salary       # protected\n",
        "        self.__ssn = ssn            # private\n",
        "\n",
        "    def show_info(self):\n",
        "        print(\"Name:\", self.name)\n",
        "        print(\"Salary:\", self._salary)\n",
        "        print(\"SSN:\", self.__ssn)\n",
        "\n",
        "# Example usage\n",
        "emp = Employee(\"Ali\", 50000, \"123-45-6789\")\n",
        "\n",
        "print(emp.name)         # Accessible (public)\n",
        "print(emp._salary)      # Accessible (protected, but not recommended)\n",
        "# print(emp.__ssn)      # Not accessible directly – will raise AttributeError\n",
        "print(emp._Employee__ssn)  # Accessing private variable using name mangling\n"
      ],
      "metadata": {
        "colab": {
          "base_uri": "https://localhost:8080/"
        },
        "id": "zCevJ25rM39W",
        "outputId": "37f03348-0915-4a56-f402-1c1b0d379e9b"
      },
      "execution_count": 17,
      "outputs": [
        {
          "output_type": "stream",
          "name": "stdout",
          "text": [
            "Ali\n",
            "50000\n",
            "123-45-6789\n"
          ]
        }
      ]
    },
    {
      "cell_type": "markdown",
      "source": [
        "8. The super() Function"
      ],
      "metadata": {
        "id": "C5Kz9vHWND_c"
      }
    },
    {
      "cell_type": "code",
      "source": [
        "class Person:\n",
        "    def __init__(self, name):\n",
        "        self.name = name\n",
        "\n",
        "class Teacher(Person):\n",
        "    def __init__(self, name, subject):\n",
        "        super().__init__(name)\n",
        "        self.subject = subject\n",
        "\n",
        "    def display(self):\n",
        "        print(f\"Name: {self.name}\")\n",
        "        print(f\"Subject: {self.subject}\")\n",
        "\n",
        "# Example usage\n",
        "t1 = Teacher(\"Miss Sana\", \"Mathematics\")\n",
        "t1.display()\n"
      ],
      "metadata": {
        "colab": {
          "base_uri": "https://localhost:8080/"
        },
        "id": "YYqKisa3NFM8",
        "outputId": "195b8ba7-e438-416a-80f1-8974cc02eb8b"
      },
      "execution_count": 16,
      "outputs": [
        {
          "output_type": "stream",
          "name": "stdout",
          "text": [
            "Name: Miss Sana\n",
            "Subject: Mathematics\n"
          ]
        }
      ]
    },
    {
      "cell_type": "markdown",
      "source": [
        "9. Abstract Classes and Methods\n",
        "\n"
      ],
      "metadata": {
        "id": "31Xv2cD3NOhJ"
      }
    },
    {
      "cell_type": "code",
      "source": [
        "from abc import ABC, abstractmethod\n",
        "\n",
        "class Shape(ABC):\n",
        "    @abstractmethod\n",
        "    def area(self):\n",
        "        pass\n",
        "\n",
        "class Rectangle(Shape):\n",
        "    def __init__(self, width, height):\n",
        "        self.width = width\n",
        "        self.height = height\n",
        "\n",
        "    def area(self):\n",
        "        return self.width * self.height\n",
        "\n",
        "# Example usage\n",
        "rect = Rectangle(5, 4)\n",
        "print(\"Area of rectangle:\", rect.area())\n"
      ],
      "metadata": {
        "colab": {
          "base_uri": "https://localhost:8080/"
        },
        "id": "YEg8u3aqNeLJ",
        "outputId": "e4cbd9d7-20f0-4f46-f71a-48514a1ce7b4"
      },
      "execution_count": 15,
      "outputs": [
        {
          "output_type": "stream",
          "name": "stdout",
          "text": [
            "Area of rectangle: 20\n"
          ]
        }
      ]
    },
    {
      "cell_type": "markdown",
      "source": [
        "10. Instance Methods\n"
      ],
      "metadata": {
        "id": "oX3MXHkQNiKF"
      }
    },
    {
      "cell_type": "code",
      "source": [
        "class Dog:\n",
        "    def __init__(self, name, breed):\n",
        "        self.name = name\n",
        "        self.breed = breed\n",
        "\n",
        "    def bark(self):\n",
        "        print(f\"{self.name} is barking!\")\n",
        "\n",
        "# Example usage\n",
        "dog1 = Dog(\"Buddy\", \"Labrador\")\n",
        "dog1.bark()\n"
      ],
      "metadata": {
        "colab": {
          "base_uri": "https://localhost:8080/"
        },
        "id": "_lkT8hmvNoRt",
        "outputId": "b505a138-ab87-40fb-968b-e8093b8a3c38"
      },
      "execution_count": 14,
      "outputs": [
        {
          "output_type": "stream",
          "name": "stdout",
          "text": [
            "Buddy is barking!\n"
          ]
        }
      ]
    },
    {
      "cell_type": "markdown",
      "source": [
        "11. Class Methods\n"
      ],
      "metadata": {
        "id": "4UUn4ZpPN0ds"
      }
    },
    {
      "cell_type": "code",
      "source": [
        "class Book:\n",
        "    total_books = 0\n",
        "\n",
        "    @classmethod\n",
        "    def increment_book_count(cls):\n",
        "        cls.total_books += 1\n",
        "\n",
        "    def __init__(self, title):\n",
        "        self.title = title\n",
        "        Book.increment_book_count()\n",
        "\n",
        "# Example usage\n",
        "b1 = Book(\"Python 101\")\n",
        "b2 = Book(\"Learn AI\")\n",
        "\n",
        "print(\"Total books:\", Book.total_books)\n"
      ],
      "metadata": {
        "colab": {
          "base_uri": "https://localhost:8080/"
        },
        "id": "67E6cAUeN2kz",
        "outputId": "dda56900-4531-4db3-c2c6-5be1e371bbb0"
      },
      "execution_count": 13,
      "outputs": [
        {
          "output_type": "stream",
          "name": "stdout",
          "text": [
            "Total books: 2\n"
          ]
        }
      ]
    },
    {
      "cell_type": "markdown",
      "source": [
        "12. Static Methods\n"
      ],
      "metadata": {
        "id": "YjJhHf4sOCYa"
      }
    },
    {
      "cell_type": "code",
      "source": [
        "class TemperatureConverter:\n",
        "    @staticmethod\n",
        "    def celsius_to_fahrenheit(c):\n",
        "        return (c * 9/5) + 32\n",
        "\n",
        "# Example usage\n",
        "temp_f = TemperatureConverter.celsius_to_fahrenheit(25)\n",
        "print(\"Fahrenheit:\", temp_f)\n"
      ],
      "metadata": {
        "colab": {
          "base_uri": "https://localhost:8080/"
        },
        "id": "r-A3dHyWOFCP",
        "outputId": "103ff283-da0e-402e-8be4-0de6f52a1ef8"
      },
      "execution_count": 12,
      "outputs": [
        {
          "output_type": "stream",
          "name": "stdout",
          "text": [
            "Fahrenheit: 77.0\n"
          ]
        }
      ]
    },
    {
      "cell_type": "markdown",
      "source": [
        "13. Composition\n",
        "\n"
      ],
      "metadata": {
        "id": "9dhoeEI0OjJv"
      }
    },
    {
      "cell_type": "code",
      "source": [
        "class Engine:\n",
        "    def start(self):\n",
        "        print(\"Engine started.\")\n",
        "\n",
        "class Car:\n",
        "    def __init__(self, engine):\n",
        "        self.engine = engine\n",
        "\n",
        "    def start_car(self):\n",
        "        self.engine.start()\n",
        "\n",
        "# Example usage\n",
        "engine = Engine()\n",
        "car = Car(engine)\n",
        "car.start_car()\n"
      ],
      "metadata": {
        "colab": {
          "base_uri": "https://localhost:8080/"
        },
        "id": "NnOrCXs-OlN-",
        "outputId": "b78c633e-59c2-4794-ae95-3a1d3d45c41f"
      },
      "execution_count": 11,
      "outputs": [
        {
          "output_type": "stream",
          "name": "stdout",
          "text": [
            "Engine started.\n"
          ]
        }
      ]
    },
    {
      "cell_type": "markdown",
      "source": [
        "14. Aggregation\n"
      ],
      "metadata": {
        "id": "vOoEi_OEOoOp"
      }
    },
    {
      "cell_type": "code",
      "source": [
        "class Employee:\n",
        "    def __init__(self, name):\n",
        "        self.name = name\n",
        "\n",
        "    def display(self):\n",
        "        print(f\"Employee Name: {self.name}\")\n",
        "\n",
        "class Department:\n",
        "    def __init__(self, dept_name, employee):\n",
        "        self.dept_name = dept_name\n",
        "        self.employee = employee  # aggregation: reference to existing Employee\n",
        "\n",
        "    def show_department(self):\n",
        "        print(f\"Department: {self.dept_name}\")\n",
        "        self.employee.display()\n",
        "\n",
        "# Example usage\n",
        "emp = Employee(\"Zain\")\n",
        "dept = Department(\"IT\", emp)\n",
        "dept.show_department()\n"
      ],
      "metadata": {
        "colab": {
          "base_uri": "https://localhost:8080/"
        },
        "id": "63L4VBHHOuvt",
        "outputId": "48f3342f-fe1e-4686-92f0-b02f021bfda7"
      },
      "execution_count": 10,
      "outputs": [
        {
          "output_type": "stream",
          "name": "stdout",
          "text": [
            "Department: IT\n",
            "Employee Name: Zain\n"
          ]
        }
      ]
    },
    {
      "cell_type": "markdown",
      "source": [
        "15. Method Resolution Order (MRO) and Diamond Inheritance\n"
      ],
      "metadata": {
        "id": "3mjJibpoO3Q6"
      }
    },
    {
      "cell_type": "code",
      "source": [
        "class A:\n",
        "    def show(self):\n",
        "        print(\"Show method from class A\")\n",
        "\n",
        "class B(A):\n",
        "    def show(self):\n",
        "        print(\"Show method from class B\")\n",
        "\n",
        "class C(A):\n",
        "    def show(self):\n",
        "        print(\"Show method from class C\")\n",
        "\n",
        "class D(B, C):\n",
        "    pass\n",
        "\n",
        "# Example usage\n",
        "d = D()\n",
        "d.show()  # MRO will call B's show() first\n"
      ],
      "metadata": {
        "colab": {
          "base_uri": "https://localhost:8080/"
        },
        "id": "Vt8ExsxLO5hr",
        "outputId": "934e3528-cecb-46cd-fac1-c7c4f0a4991f"
      },
      "execution_count": 9,
      "outputs": [
        {
          "output_type": "stream",
          "name": "stdout",
          "text": [
            "Show method from class B\n"
          ]
        }
      ]
    },
    {
      "cell_type": "markdown",
      "source": [
        "16. Function Decorators\n",
        "\n"
      ],
      "metadata": {
        "id": "rQ-hSQnaO9aH"
      }
    },
    {
      "cell_type": "code",
      "source": [
        "def log_function_call(func):\n",
        "    def wrapper():\n",
        "        print(\"Function is being called\")\n",
        "        return func()\n",
        "    return wrapper\n",
        "\n",
        "@log_function_call\n",
        "def say_hello():\n",
        "    print(\"Hello!\")\n",
        "\n",
        "# Example usage\n",
        "say_hello()\n"
      ],
      "metadata": {
        "colab": {
          "base_uri": "https://localhost:8080/"
        },
        "id": "7DcO8pucPHeQ",
        "outputId": "5c76b216-66c3-4889-9442-1583077de8e2"
      },
      "execution_count": 8,
      "outputs": [
        {
          "output_type": "stream",
          "name": "stdout",
          "text": [
            "Function is being called\n",
            "Hello!\n"
          ]
        }
      ]
    },
    {
      "cell_type": "markdown",
      "source": [
        "17. Class Decorators\n"
      ],
      "metadata": {
        "id": "W9VNTlHyPPJ6"
      }
    },
    {
      "cell_type": "code",
      "source": [
        "def add_greeting(cls):\n",
        "    def greet(self):\n",
        "        return \"Hello from Decorator!\"\n",
        "    cls.greet = greet\n",
        "    return cls\n",
        "\n",
        "@add_greeting\n",
        "class Person:\n",
        "    def __init__(self, name):\n",
        "        self.name = name\n",
        "\n",
        "# Example usage\n",
        "p = Person(\"Ali\")\n",
        "print(p.greet())\n"
      ],
      "metadata": {
        "colab": {
          "base_uri": "https://localhost:8080/"
        },
        "id": "PUIhZekuPRUY",
        "outputId": "42561283-9420-41e1-a929-b82b52152bce"
      },
      "execution_count": 7,
      "outputs": [
        {
          "output_type": "stream",
          "name": "stdout",
          "text": [
            "Hello from Decorator!\n"
          ]
        }
      ]
    },
    {
      "cell_type": "markdown",
      "source": [
        "18. Property Decorators: @property, @setter, and @deleter\n"
      ],
      "metadata": {
        "id": "5N0Jyir_PcXY"
      }
    },
    {
      "cell_type": "code",
      "source": [
        "class Product:\n",
        "    def __init__(self, price):\n",
        "        self._price = price\n",
        "\n",
        "    @property\n",
        "    def price(self):\n",
        "        return self._price\n",
        "\n",
        "    @price.setter\n",
        "    def price(self, value):\n",
        "        if value >= 0:\n",
        "            self._price = value\n",
        "        else:\n",
        "            print(\"Price cannot be negative\")\n",
        "\n",
        "    @price.deleter\n",
        "    def price(self):\n",
        "        del self._price\n",
        "\n",
        "# Example usage\n",
        "prod = Product(100)\n",
        "print(prod.price)  # Get\n",
        "\n",
        "prod.price = 150   # Set\n",
        "print(prod.price)\n",
        "\n",
        "prod.price = -50   # Invalid set\n",
        "\n",
        "del prod.price     # Delete\n",
        "# print(prod.price) # This will raise AttributeError if uncommented\n"
      ],
      "metadata": {
        "colab": {
          "base_uri": "https://localhost:8080/"
        },
        "id": "sB7O9fB9PidE",
        "outputId": "4317d365-c952-447c-84c9-ac178e35df1e"
      },
      "execution_count": 6,
      "outputs": [
        {
          "output_type": "stream",
          "name": "stdout",
          "text": [
            "100\n",
            "150\n",
            "Price cannot be negative\n"
          ]
        }
      ]
    },
    {
      "cell_type": "markdown",
      "source": [
        "\n",
        "19. callable() and __call__()\n",
        "Assignment:\n",
        "Create a class Multiplier with an __init__() to set a factor. Define a __call__() method that multiplies an input by the factor. Test it with callable() and by calling the object like a function."
      ],
      "metadata": {
        "id": "hHLLYUv2PpVy"
      }
    },
    {
      "cell_type": "code",
      "source": [
        "class Multiplier:\n",
        "    def __init__(self, factor):\n",
        "        self.factor = factor\n",
        "\n",
        "    def __call__(self, x):\n",
        "        return x * self.factor\n",
        "\n",
        "# Example usage\n",
        "m = Multiplier(5)\n",
        "\n",
        "print(callable(m))    # True, because __call__ is defined\n",
        "print(m(10))          # 50 (10 * 5)\n"
      ],
      "metadata": {
        "colab": {
          "base_uri": "https://localhost:8080/"
        },
        "id": "BKuXTXjRPsaC",
        "outputId": "28cae885-1e40-4387-b6e7-6fa65dde5827"
      },
      "execution_count": 5,
      "outputs": [
        {
          "output_type": "stream",
          "name": "stdout",
          "text": [
            "True\n",
            "50\n"
          ]
        }
      ]
    },
    {
      "cell_type": "markdown",
      "source": [
        "20. Creating a Custom Exception\n",
        "Assignment:\n",
        "Create a custom exception InvalidAgeError. Write a function check_age(age) that raises this exception if age < 18. Handle it with try...except.\n",
        "\n"
      ],
      "metadata": {
        "id": "o_NquhOjQFfm"
      }
    },
    {
      "cell_type": "code",
      "source": [
        "class InvalidAgeError(Exception):\n",
        "    pass\n",
        "\n",
        "def check_age(age):\n",
        "    if age < 18:\n",
        "        raise InvalidAgeError(\"Age must be 18 or older.\")\n",
        "\n",
        "# Example usage\n",
        "try:\n",
        "    check_age(16)\n",
        "except InvalidAgeError as e:\n",
        "    print(\"Caught an exception:\", e)\n"
      ],
      "metadata": {
        "colab": {
          "base_uri": "https://localhost:8080/"
        },
        "id": "Tw7synJdQHOk",
        "outputId": "d2df677a-1c45-4b79-b47d-2a0ce87db3d9"
      },
      "execution_count": 4,
      "outputs": [
        {
          "output_type": "stream",
          "name": "stdout",
          "text": [
            "Caught an exception: Age must be 18 or older.\n"
          ]
        }
      ]
    },
    {
      "cell_type": "markdown",
      "source": [
        "21. Make a Custom Class Iterable\n",
        "Assignment:\n",
        "Create a class Countdown that takes a start number. Implement __iter__() and __next__() to make the object iterable in a for-loop, counting down to 0.\n",
        "\n"
      ],
      "metadata": {
        "id": "c4Aqu5_6QLZl"
      }
    },
    {
      "cell_type": "code",
      "source": [
        "class Countdown:\n",
        "    def __init__(self, start):\n",
        "        self.current = start\n",
        "\n",
        "    def __iter__(self):\n",
        "        return self\n",
        "\n",
        "    def __next__(self):\n",
        "        if self.current < 0:\n",
        "            raise StopIteration\n",
        "        else:\n",
        "            val = self.current\n",
        "            self.current -= 1\n",
        "            return val\n",
        "\n",
        "# Example usage\n",
        "for num in Countdown(5):\n",
        "    print(num)\n"
      ],
      "metadata": {
        "colab": {
          "base_uri": "https://localhost:8080/"
        },
        "id": "7CaofP_mQT6m",
        "outputId": "969044c6-4e0a-42e2-9e70-84b15c7198a2"
      },
      "execution_count": 3,
      "outputs": [
        {
          "output_type": "stream",
          "name": "stdout",
          "text": [
            "5\n",
            "4\n",
            "3\n",
            "2\n",
            "1\n",
            "0\n"
          ]
        }
      ]
    }
  ]
}